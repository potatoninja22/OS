{
 "cells": [
  {
   "cell_type": "code",
   "execution_count": 20,
   "id": "292cc7bf",
   "metadata": {},
   "outputs": [
    {
     "data": {
      "image/png": "[encoded data removed]",
      "text/plain": [
       "<Figure size 720x432 with 1 Axes>"
      ]
     },
     "metadata": {
      "needs_background": "light"
     },
     "output_type": "display_data"
    }
   ],
   "source": [
    "import matplotlib.pyplot as plt\n",
    "\n",
    "# Function to parse the input file and extract job details\n",
    "def parse_input_file(file_path):\n",
    "    job_data = []\n",
    "    with open(file_path, 'r') as file:\n",
    "        lines = file.readlines()\n",
    "        for line in lines:\n",
    "            parts = line.split()\n",
    "            if len(parts) == 3:  # Check if it's a job description line\n",
    "                job_id = parts[0]\n",
    "                start_time = float(parts[1])\n",
    "                end_time = float(parts[2])\n",
    "                job_data.append((job_id, start_time, end_time))\n",
    "    return job_data\n",
    "\n",
    "# Create a Gantt chart with unique colors and a legend for processes\n",
    "def create_gantt_chart(job_data):\n",
    "    fig, ax = plt.subplots(figsize=(30, 12))\n",
    "\n",
    "    # Set the y-axis limits and labels\n",
    "    ax.set_ylim(0, 1)\n",
    "    ax.set_yticks([0.5])\n",
    "    ax.set_yticklabels([\"Processes\"])\n",
    "\n",
    "    # Create a dictionary to map process IDs to unique colors\n",
    "    process_colors = {}\n",
    "    unique_labels = set()\n",
    "\n",
    "    # Plot the scheduling intervals\n",
    "    for i, (job_id, start_time, end_time) in enumerate(job_data):\n",
    "        if job_id not in process_colors:\n",
    "            # Assign a unique color to the process if it's appearing for the first time\n",
    "            process_colors[job_id] = f'C{i % 10}'  # Use different colors for each process\n",
    "        color = process_colors[job_id]\n",
    "\n",
    "        # Plot the process on the timeline\n",
    "        width = end_time - start_time\n",
    "        ax.barh(0.5,width, left=start_time, height=0.2, align='center', color=color)\n",
    "        \n",
    "        if job_id not in unique_labels:\n",
    "            unique_labels.add(job_id)\n",
    "            ax.barh(0,0,color=color,label=job_id)\n",
    "\n",
    "    # Customize the plot\n",
    "    ax.set_xlabel(\"Time\")\n",
    "    ax.set_title(\"Gantt Chart for Process Scheduling\")\n",
    "    \n",
    "    # Create a legend with unique process labels\n",
    "    ax.legend(loc='upper right')\n",
    "\n",
    "    # Display the Gantt chart\n",
    "    plt.grid(axis='x')\n",
    "    plt.show()\n",
    "\n",
    "# Main function\n",
    "if __name__ == \"__main__\":\n",
    "    input_file = \"gantt_out.txt\"  # Replace with the actual file path\n",
    "    job_data = parse_input_file(input_file)\n",
    "    create_gantt_chart(job_data)\n"
   ]
  },
  {
   "cell_type": "code",
   "execution_count": null,
   "id": "c012341d",
   "metadata": {},
   "outputs": [],
   "source": []
  },
  {
   "cell_type": "code",
   "execution_count": null,
   "id": "03d9d3b1",
   "metadata": {},
   "outputs": [],
   "source": []
  },
  {
   "cell_type": "code",
   "execution_count": null,
   "id": "c8682952",
   "metadata": {},
   "outputs": [],
   "source": []
  }
 ],
 "metadata": {
  "kernelspec": {
   "display_name": "Python 3 (ipykernel)",
   "language": "python",
   "name": "python3"
  },
  "language_info": {
   "codemirror_mode": {
    "name": "ipython",
    "version": 3
   },
   "file_extension": ".py",
   "mimetype": "text/x-python",
   "name": "python",
   "nbconvert_exporter": "python",
   "pygments_lexer": "ipython3",
   "version": "3.9.0"
  }
 },
 "nbformat": 4,
 "nbformat_minor": 5
}
